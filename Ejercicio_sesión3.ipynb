{
  "nbformat": 4,
  "nbformat_minor": 0,
  "metadata": {
    "colab": {
      "name": "Ejercicio_sesión3.ipynb",
      "provenance": [],
      "collapsed_sections": [],
      "authorship_tag": "ABX9TyMQ/E9a91kdw+fFptrbCrvN",
      "include_colab_link": true
    },
    "kernelspec": {
      "name": "python3",
      "display_name": "Python 3"
    },
    "language_info": {
      "name": "python"
    }
  },
  "cells": [
    {
      "cell_type": "markdown",
      "metadata": {
        "id": "view-in-github",
        "colab_type": "text"
      },
      "source": [
        "<a href=\"https://colab.research.google.com/github/Nestor9801/Estructura-de-datos-y-algoritmos/blob/master/Ejercicio_sesi%C3%B3n3.ipynb\" target=\"_parent\"><img src=\"https://colab.research.google.com/assets/colab-badge.svg\" alt=\"Open In Colab\"/></a>"
      ]
    },
    {
      "cell_type": "markdown",
      "metadata": {
        "id": "GV9WtbkLszhE"
      },
      "source": [
        "\n",
        "#**Ejercicios de la sesión 3**\n"
      ]
    },
    {
      "cell_type": "markdown",
      "metadata": {
        "id": "u_q3lQyUsyQu"
      },
      "source": [
        "######**1.- Piensa en todos los casos posibles para que el programa que se realizó en la sesión número tres donde se resolvió el algoritmo de mínimo y máximo. Lista todos los casos que pienses, observa el ejemplo. Lista al menos 5**"
      ]
    },
    {
      "cell_type": "markdown",
      "metadata": {
        "id": "MBvHtg1Htq3_"
      },
      "source": [
        "\n",
        "\n",
        "\n",
        "\n",
        "1.   Una lista vacía\n",
        "2.   Una lista con un solo valor minímo\n",
        "3.\n",
        "4.\n",
        "5.\n",
        "\n",
        "\n",
        "\n",
        "\n"
      ]
    },
    {
      "cell_type": "markdown",
      "metadata": {
        "id": "eWey5zXbuNyp"
      },
      "source": [
        "Vamos a expresar nuestros casos como diccionarios para probar muy facilmente nuestros algoritmos, cada diccionario llevará dos keys, una estrada que es la lista a ingresar y una salida, que es lo que esperas que retorne tu función. Observemos:"
      ]
    },
    {
      "cell_type": "markdown",
      "metadata": {
        "id": "H4hqj6Ywu_ir"
      },
      "source": [
        "**Consejo:** siempre que se maneje una lista vacía, la salida puede ser 0"
      ]
    },
    {
      "cell_type": "code",
      "metadata": {
        "id": "XPcs48_7vbGo"
      },
      "source": [
        "test = {\n",
        "    'input': {\n",
        "        'nums': []\n",
        "    },\n",
        "    'output': 0\n",
        "}"
      ],
      "execution_count": 9,
      "outputs": []
    },
    {
      "cell_type": "markdown",
      "metadata": {
        "id": "kScrz-1AvtwC"
      },
      "source": [
        "Recordemos que para acceder usamos la key, por ejemplo, si yo quiero probar mi lista e ingresarla dentro de una función, solo usamos la key 'input'  y la key dentro de ínput, en este caso, 'nums'. Lo mismo para la salida"
      ]
    },
    {
      "cell_type": "code",
      "metadata": {
        "colab": {
          "base_uri": "https://localhost:8080/"
        },
        "id": "OZ-aO0mpvnto",
        "outputId": "7db55ab2-3e9c-42b8-f4e7-ee62d2e41334"
      },
      "source": [
        "print(test['input']['nums'])\n",
        "print(test['output'])"
      ],
      "execution_count": 8,
      "outputs": [
        {
          "output_type": "stream",
          "text": [
            "[19, 25, 29, 3, 5, 6, 7, 9, 11, 14]\n",
            "3\n"
          ],
          "name": "stdout"
        }
      ]
    },
    {
      "cell_type": "markdown",
      "metadata": {
        "id": "aBBCyV3Bw3H3"
      },
      "source": [
        "Almacena todos tus casos en diccionarios, por ejemplo\n",
        "\n"
      ]
    },
    {
      "cell_type": "code",
      "metadata": {
        "id": "RTXGYE5Swag0"
      },
      "source": [
        "#Cuando una lista está vacía\n",
        "test1 = {\n",
        "    'input': {\n",
        "        'nums': []\n",
        "    },\n",
        "    'output': 0\n",
        "}"
      ],
      "execution_count": 11,
      "outputs": []
    },
    {
      "cell_type": "code",
      "metadata": {
        "id": "9jwZwZJkxeHe"
      },
      "source": [
        "#Cuando una lista tiene solo un valor mínimo\n",
        "\n",
        "test2= {\n",
        "    'input': {\n",
        "        'nums': [2,3,1,4,5,6,7,8]\n",
        "    },\n",
        "    'output': 1\n",
        "}"
      ],
      "execution_count": 12,
      "outputs": []
    },
    {
      "cell_type": "markdown",
      "metadata": {
        "id": "ovu_0v4vyNVX"
      },
      "source": [
        "####**¿Recuerdas la teoría de la sesión de este ejercicio?**\n",
        "\n",
        "#####**Explica brevemente en una serie de pasos como trabaja el primer algoritmo que es el por caso**"
      ]
    },
    {
      "cell_type": "markdown",
      "metadata": {
        "id": "wBvzQ79ay7gk"
      },
      "source": [
        "\n",
        "1. ???\n",
        "2. ???\n",
        "3. ???"
      ]
    },
    {
      "cell_type": "code",
      "metadata": {
        "id": "g8QnFqY4x1Fb"
      },
      "source": [
        "def findMin(alist):\n",
        "  minimo = alist[0] ####------O(n^2)\n",
        "  ####-------- Worst Case\n",
        "  for i in alist:\n",
        "    valor_minimo = True\n",
        "    for j in alist:\n",
        "      if i > j :\n",
        "        valor_minimo = False\n",
        "    if valor_minimo:\n",
        "      minimo = i\n",
        "  return minimo"
      ],
      "execution_count": 21,
      "outputs": []
    },
    {
      "cell_type": "markdown",
      "metadata": {
        "id": "nPtGKMWRzfUN"
      },
      "source": [
        "**Prueba tu código ingresando en la función tus casos que están almacenados en el diccionario, ejemplo:**\n",
        "**Tienes que agregar la solución cuando la lista este vacía**"
      ]
    },
    {
      "cell_type": "code",
      "metadata": {
        "colab": {
          "base_uri": "https://localhost:8080/"
        },
        "id": "z7Gd1JdYzX_u",
        "outputId": "9b4915a6-3fce-4acc-c28d-c31cbe7ba27b"
      },
      "source": [
        "findMin(test2['input']['nums'])\n",
        "\n",
        "##Para verificar que tu evaluación es correcta solo evalúa la siguiente línea\n",
        "\n",
        "print(findMin(test2['input']['nums']) == test2['output'])"
      ],
      "execution_count": 26,
      "outputs": [
        {
          "output_type": "stream",
          "text": [
            "True\n"
          ],
          "name": "stdout"
        }
      ]
    },
    {
      "cell_type": "markdown",
      "metadata": {
        "id": "x-NDozyf3uqj"
      },
      "source": [
        "\n",
        "#####**Explica brevemente en una serie de pasos como trabaja el segundo algoritmo, pon ejemplos con listas o imágenes si lo requieres.**"
      ]
    },
    {
      "cell_type": "markdown",
      "metadata": {
        "id": "KNd93Y5x31RP"
      },
      "source": [
        "1. ???\n",
        "2. ???\n",
        "3. ???"
      ]
    },
    {
      "cell_type": "code",
      "metadata": {
        "id": "MxqmFryTzpjf"
      },
      "source": [
        "def findMinOptimizado(lista_):\n",
        "  ##Best case\n",
        "  set_min = lista_[0]\n",
        "  for i in lista_: ##----------> O(n)\n",
        "    if i < set_min:\n",
        "      set_min = i\n",
        "  return set_min\n"
      ],
      "execution_count": 27,
      "outputs": []
    },
    {
      "cell_type": "markdown",
      "metadata": {
        "id": "Jj7S88No4LI1"
      },
      "source": [
        "**Evalúa tus casos al igual que en el algotimo anterior e implementa cuando una lista es vacía**"
      ]
    },
    {
      "cell_type": "code",
      "metadata": {
        "colab": {
          "base_uri": "https://localhost:8080/"
        },
        "id": "PS7veUYA3kmj",
        "outputId": "c51387e9-5cce-4df5-f626-84aec2488112"
      },
      "source": [
        "findMinOptimizado(test2['input']['nums'])\n",
        "\n",
        "##Para verificar que tu evaluación es correcta solo evalúa la siguiente línea\n",
        "\n",
        "print(findMinOptimizado(test2['input']['nums']) == test2['output'])"
      ],
      "execution_count": 28,
      "outputs": [
        {
          "output_type": "stream",
          "text": [
            "True\n"
          ],
          "name": "stdout"
        }
      ]
    },
    {
      "cell_type": "markdown",
      "metadata": {
        "id": "1TV1hWM04W2U"
      },
      "source": [
        "**Disfruta realizando tus ejercicios... Y dsfruta tu fin de semana. Cualquier duda no dudes en contactarme.**\n"
      ]
    },
    {
      "cell_type": "code",
      "metadata": {
        "id": "PPrqb1lz5vN7"
      },
      "source": [
        ""
      ],
      "execution_count": null,
      "outputs": []
    }
  ]
}