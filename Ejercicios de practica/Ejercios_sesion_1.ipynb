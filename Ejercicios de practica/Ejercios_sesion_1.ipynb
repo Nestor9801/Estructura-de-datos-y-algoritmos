{
  "nbformat": 4,
  "nbformat_minor": 0,
  "metadata": {
    "colab": {
      "name": "Ejercios sesión 1.ipynb",
      "provenance": []
    },
    "kernelspec": {
      "name": "python3",
      "display_name": "Python 3"
    },
    "language_info": {
      "name": "python"
    }
  },
  "cells": [
    {
      "cell_type": "markdown",
      "metadata": {
        "id": "rFg7hTvWuxJQ"
      },
      "source": [
        "Ejercio 1: Se tiene la siguiente lista de valores: \n",
        "\n",
        "lista_ = [1,2,3,4,5,6,6, [2,4,5,6,7,8,9], 'hola', 45]\n",
        "\n",
        "Necesitamos extraer de la lista anidada todos los valores que sean menores a 7 ya que son de vital importancia para generar un diccionario de datos.\n",
        "\n",
        "**Consejo:** use type para conocer el tipo de datos de los valores de la lista.\n"
      ]
    },
    {
      "cell_type": "code",
      "metadata": {
        "id": "orbh7rxCwcDj"
      },
      "source": [
        "lista_ = [1,2,3,4,5,6,6, [2,4,5,6,6,5,4,3,2,1,5,6,7,8,9], 'hola', 45]\n",
        "\n",
        "def get_values_mix_list(lista):\n",
        "  \"\"\"Inserte toda la lógica aquí\"\"\"\n",
        "  pass\n",
        "\n",
        "  return get_list\n",
        "\n",
        "\n",
        "#Los siguientes comentario se corre cuando se obtenga la lista para evaluar si corresponde al resultado dado\n",
        "#result = [2, 4, 5, 6, 6, 5, 4, 3, 2, 1, 5, 6]\n",
        "#print(result == get_list)\n"
      ],
      "execution_count": null,
      "outputs": []
    },
    {
      "cell_type": "markdown",
      "metadata": {
        "id": "9npIYhcIyW_h"
      },
      "source": [
        "**Ejercicio 2: Se trata de que usted genere una función para que los valores obtenidos en la lista pasen a formar parte de un diccionario que nos ayude a hacer consultas de los valores que se encuentran en esta estrctura de datos.**"
      ]
    },
    {
      "cell_type": "code",
      "metadata": {
        "id": "O9WdEU1c0STy"
      },
      "source": [
        "diccionario_result = {0: 2, 1: 4, 2: 5, 3: 6, 4: 6, 5: 5, 6: 4, 7: 3, 8: 2, 9: 1, 10: 5, 11: 6}\n",
        "\n",
        "def create_dict(lista):\n",
        "\n",
        "  \"\"\"Inserta todo el código aquí\"\"\"\n",
        "  pass\n",
        "\n",
        "  return get_dict\n",
        "  \n",
        "#Los siguientes comentario se corre cuando se obtenga la lista para evaluar si corresponde al resultado dado\n",
        "#diccionario_result = {0: 2, 1: 4, 2: 5, 3: 6, 4: 6, 5: 5, 6: 4, 7: 3, 8: 2, 9: 1, 10: 5, 11: 6}\n",
        "#print(diccionario_result == get_dict)"
      ],
      "execution_count": null,
      "outputs": []
    },
    {
      "cell_type": "markdown",
      "metadata": {
        "id": "7cpqZkFp1KgH"
      },
      "source": [
        "## Objetos web: JSON\n",
        "\n",
        "**JSON**, de **J**ava**S**cript **O**bject **N**otation, es un estándar de formato para contenidos en la web. La notación describe el formato agrupado de los objetos a través de `[]` y `{}`, lo que hace que sea muy similar a trabajar con listas y diccionarios de manera conjunta.\n",
        "\n",
        "Este es un estándar muy utilizado en la actualidad para comunicar procesos y servicios a través de la web.\n",
        "\n"
      ]
    },
    {
      "cell_type": "markdown",
      "metadata": {
        "id": "s2dQDYbn12Bu"
      },
      "source": [
        "Ejercicio 3. Se hizo una petición http y se obtiene la siguiente información en un conjunto de lista y diccionario, necesito obtener cierta información de alto valor para relizar un modelo que nos ayude a identificar objetos en una imágen, obtenga los valores de la key 'object' y almacenelos en una lista para su posterior análisis.\n"
      ]
    },
    {
      "cell_type": "code",
      "metadata": {
        "id": "MA6d2bb71qyz"
      },
      "source": [
        "cognitive_response = [\n",
        "  {\n",
        "    \"rectangle\": {\n",
        "      \"x\": 6,\n",
        "      \"y\": 390,\n",
        "      \"w\": 48,\n",
        "      \"h\": 40\n",
        "    },\n",
        "    \"object\": \"footwear\",\n",
        "    \"confidence\": 0.513\n",
        "  },\n",
        "  {\n",
        "    \"rectangle\": {\n",
        "      \"x\": 104,\n",
        "      \"y\": 104,\n",
        "      \"w\": 127,\n",
        "      \"h\": 323\n",
        "    },\n",
        "    \"object\": \"person\",\n",
        "    \"confidence\": 0.763\n",
        "  },\n",
        "  {\n",
        "    \"rectangle\": {\n",
        "      \"x\": 174,\n",
        "      \"y\": 236,\n",
        "      \"w\": 113,\n",
        "      \"h\": 74\n",
        "    },\n",
        "    \"object\": \"Laptop\",\n",
        "    \"parent\": {\n",
        "      \"object\": \"computer\",\n",
        "      \"confidence\": 0.56\n",
        "    },\n",
        "    \"confidence\": 0.553\n",
        "  },\n",
        "  {\n",
        "    \"rectangle\": {\n",
        "      \"x\": 351,\n",
        "      \"y\": 331,\n",
        "      \"w\": 154,\n",
        "      \"h\": 99\n",
        "    },\n",
        "    \"object\": \"seating\",\n",
        "    \"confidence\": 0.525\n",
        "  },\n",
        "  {\n",
        "    \"rectangle\": {\n",
        "      \"x\": 0,\n",
        "      \"y\": 101,\n",
        "      \"w\": 174,\n",
        "      \"h\": 329\n",
        "    },\n",
        "    \"object\": \"person\",\n",
        "    \"confidence\": 0.855\n",
        "  },\n",
        "  {\n",
        "    \"rectangle\": {\n",
        "      \"x\": 223,\n",
        "      \"y\": 99,\n",
        "      \"w\": 199,\n",
        "      \"h\": 322\n",
        "    },\n",
        "    \"object\": \"person\",\n",
        "    \"confidence\": 0.725\n",
        "  },\n",
        "  {\n",
        "    \"rectangle\": {\n",
        "      \"x\": 154,\n",
        "      \"y\": 191,\n",
        "      \"w\": 387,\n",
        "      \"h\": 218\n",
        "    },\n",
        "    \"object\": \"seating\",\n",
        "    \"confidence\": 0.679\n",
        "  },\n",
        "  {\n",
        "    \"rectangle\": {\n",
        "      \"x\": 111,\n",
        "      \"y\": 275,\n",
        "      \"w\": 264,\n",
        "      \"h\": 151\n",
        "    },\n",
        "    \"object\": \"table\",\n",
        "    \"confidence\": 0.601\n",
        "  }\n",
        "]"
      ],
      "execution_count": null,
      "outputs": []
    },
    {
      "cell_type": "code",
      "metadata": {
        "id": "yZHzevRB2oW5"
      },
      "source": [
        "\n",
        "\n",
        "def get_object():\n",
        "\n",
        "  \"\"\"Inserte código aquí \"\"\"\n",
        "  return list_objects\n",
        "\n",
        "##real_list_objects = [footwear, person, Laptop, seating, person, person, seating, table]\n",
        "###print(list_objects ==real_list_objects )"
      ],
      "execution_count": null,
      "outputs": []
    },
    {
      "cell_type": "code",
      "metadata": {
        "id": "hUHXWjFo20eb"
      },
      "source": [
        ""
      ],
      "execution_count": null,
      "outputs": []
    }
  ]
}