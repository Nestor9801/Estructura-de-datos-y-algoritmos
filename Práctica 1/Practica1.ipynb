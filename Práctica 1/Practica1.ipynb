{
  "nbformat": 4,
  "nbformat_minor": 0,
  "metadata": {
    "colab": {
      "name": "Practica1.ipynb",
      "provenance": [],
      "collapsed_sections": []
    },
    "kernelspec": {
      "name": "python3",
      "display_name": "Python 3"
    },
    "language_info": {
      "name": "python"
    }
  },
  "cells": [
    {
      "cell_type": "markdown",
      "metadata": {
        "id": "GDIyMBSmAMYd"
      },
      "source": [
        "#**Tipos de datos**"
      ]
    },
    {
      "cell_type": "code",
      "metadata": {
        "colab": {
          "base_uri": "https://localhost:8080/"
        },
        "id": "PPWzAagvAa2D",
        "outputId": "1797c2e4-fa24-4926-9cc4-f4ce9dd78ae8"
      },
      "source": [
        "a = 7 \n",
        "float(a)\n",
        "type(a)"
      ],
      "execution_count": 6,
      "outputs": [
        {
          "output_type": "execute_result",
          "data": {
            "text/plain": [
              "int"
            ]
          },
          "metadata": {
            "tags": []
          },
          "execution_count": 6
        }
      ]
    },
    {
      "cell_type": "code",
      "metadata": {
        "colab": {
          "base_uri": "https://localhost:8080/"
        },
        "id": "PsF5KMU7Cu_8",
        "outputId": "0eaacef8-7fd2-4dbf-b68b-4b0c4cc46406"
      },
      "source": [
        "\n",
        "float(a)"
      ],
      "execution_count": 7,
      "outputs": [
        {
          "output_type": "execute_result",
          "data": {
            "text/plain": [
              "7.0"
            ]
          },
          "metadata": {
            "tags": []
          },
          "execution_count": 7
        }
      ]
    },
    {
      "cell_type": "code",
      "metadata": {
        "colab": {
          "base_uri": "https://localhost:8080/"
        },
        "id": "bW8UAIG7BfEJ",
        "outputId": "278683b3-0e6b-4d70-db7a-cd653bff2421"
      },
      "source": [
        "flotante = 8.5 \n",
        "int(flotante)\n",
        "type(flotante)"
      ],
      "execution_count": 3,
      "outputs": [
        {
          "output_type": "execute_result",
          "data": {
            "text/plain": [
              "float"
            ]
          },
          "metadata": {
            "tags": []
          },
          "execution_count": 3
        }
      ]
    },
    {
      "cell_type": "code",
      "metadata": {
        "colab": {
          "base_uri": "https://localhost:8080/"
        },
        "id": "h_pzO54RBo7H",
        "outputId": "c766a9a1-b6b5-479d-c3db-5f87a587cc98"
      },
      "source": [
        "bool1 = True\n",
        "bool2 = False\n",
        "\n",
        "string = 'texto1'\n",
        "complejo = 7 + 5j\n",
        "type(complejo)\n",
        "\n"
      ],
      "execution_count": 5,
      "outputs": [
        {
          "output_type": "execute_result",
          "data": {
            "text/plain": [
              "complex"
            ]
          },
          "metadata": {
            "tags": []
          },
          "execution_count": 5
        }
      ]
    },
    {
      "cell_type": "code",
      "metadata": {
        "colab": {
          "base_uri": "https://localhost:8080/"
        },
        "id": "OLyj2MErCAEa",
        "outputId": "f42b4a08-1afd-4bca-9b1e-b49935615e07"
      },
      "source": [
        "print(flotante == a)"
      ],
      "execution_count": 9,
      "outputs": [
        {
          "output_type": "stream",
          "text": [
            "False\n"
          ],
          "name": "stdout"
        }
      ]
    },
    {
      "cell_type": "code",
      "metadata": {
        "colab": {
          "base_uri": "https://localhost:8080/"
        },
        "id": "gTQBMdmPC9iS",
        "outputId": "9526dac6-f492-43d5-bd2f-60ad86e2a122"
      },
      "source": [
        "print(not True and not False)"
      ],
      "execution_count": 10,
      "outputs": [
        {
          "output_type": "stream",
          "text": [
            "False\n"
          ],
          "name": "stdout"
        }
      ]
    },
    {
      "cell_type": "markdown",
      "metadata": {
        "id": "yWs8rVjADvkR"
      },
      "source": [
        "#**Sentencias if**"
      ]
    },
    {
      "cell_type": "code",
      "metadata": {
        "id": "z7GF51DI27A1"
      },
      "source": [
        ""
      ],
      "execution_count": null,
      "outputs": []
    },
    {
      "cell_type": "code",
      "metadata": {
        "colab": {
          "base_uri": "https://localhost:8080/"
        },
        "id": "f7L2uFbhD3CS",
        "outputId": "27f064c9-5e84-4984-c645-3c85918b5974"
      },
      "source": [
        "print(\"Inici un programa\")\n",
        "print(\"Seleccione la opción deseada\")\n",
        "print(\"Ocpción 1\")\n",
        "print(\"Opción 2 \")\n",
        "print(\"Opción 3 \")\n",
        "\n",
        "opcion = int(input(\"Seleccione una opcion:\"))\n",
        "print(type(opcion))\n",
        "\n",
        "if opcion == 1:\n",
        "  print('elegiste la opcion 1')\n",
        "elif opcion == 2:\n",
        "  print('Elegiste la opcion 2')\n",
        "elif opcion == 3:\n",
        "  print('Elegiste la opcion 3')\n"
      ],
      "execution_count": 14,
      "outputs": [
        {
          "output_type": "stream",
          "text": [
            "Inici un programa\n",
            "Seleccione la opción deseada\n",
            "Ocpción 1\n",
            "Opción 2 \n",
            "Opción 3 \n",
            "Seleccione una opcion:1\n",
            "<class 'int'>\n",
            "elegiste la opcion 1\n"
          ],
          "name": "stdout"
        }
      ]
    },
    {
      "cell_type": "markdown",
      "metadata": {
        "id": "VXwawc71G6wD"
      },
      "source": [
        "# **Listas y bucles for**"
      ]
    },
    {
      "cell_type": "markdown",
      "metadata": {
        "id": "1NEqgRsEHHcO"
      },
      "source": [
        "Una lista es una estructura de datos que puede alamacenar, strings, enteros, flotantes, complejos, también almacena otras estructuras de datos como, otras listas, diccionarios  y tuplas"
      ]
    },
    {
      "cell_type": "code",
      "metadata": {
        "id": "pbWO8u05HAeq"
      },
      "source": [
        "lista = [1,2,3,4,5,6,7,8,9]"
      ],
      "execution_count": 15,
      "outputs": []
    },
    {
      "cell_type": "code",
      "metadata": {
        "colab": {
          "base_uri": "https://localhost:8080/"
        },
        "id": "RsEcMipoHyDu",
        "outputId": "650ef49b-1896-4063-8241-5d9d2d018ab0"
      },
      "source": [
        "lista.append(63)\n",
        "lista"
      ],
      "execution_count": 16,
      "outputs": [
        {
          "output_type": "execute_result",
          "data": {
            "text/plain": [
              "[1, 2, 3, 4, 5, 6, 7, 8, 9, 63]"
            ]
          },
          "metadata": {
            "tags": []
          },
          "execution_count": 16
        }
      ]
    },
    {
      "cell_type": "code",
      "metadata": {
        "id": "fJD81PUoH7co"
      },
      "source": [
        "lista.extend([3,4,5,7])"
      ],
      "execution_count": 17,
      "outputs": []
    },
    {
      "cell_type": "code",
      "metadata": {
        "colab": {
          "base_uri": "https://localhost:8080/"
        },
        "id": "ft8UQAJ2INA7",
        "outputId": "dd47a8a6-e84d-4f8a-ba0a-886a6e70710d"
      },
      "source": [
        "lista"
      ],
      "execution_count": 18,
      "outputs": [
        {
          "output_type": "execute_result",
          "data": {
            "text/plain": [
              "[1, 2, 3, 4, 5, 6, 7, 8, 9, 63, 3, 4, 5, 7]"
            ]
          },
          "metadata": {
            "tags": []
          },
          "execution_count": 18
        }
      ]
    },
    {
      "cell_type": "code",
      "metadata": {
        "colab": {
          "base_uri": "https://localhost:8080/"
        },
        "id": "Li0y7GvEIOfH",
        "outputId": "2e69edb1-41a2-4e8c-a950-abc88a0e0d46"
      },
      "source": [
        "copy_list = lista.copy()\n",
        "copy_list"
      ],
      "execution_count": 19,
      "outputs": [
        {
          "output_type": "execute_result",
          "data": {
            "text/plain": [
              "[1, 2, 3, 4, 5, 6, 7, 8, 9, 63, 3, 4, 5, 7]"
            ]
          },
          "metadata": {
            "tags": []
          },
          "execution_count": 19
        }
      ]
    },
    {
      "cell_type": "code",
      "metadata": {
        "colab": {
          "base_uri": "https://localhost:8080/"
        },
        "id": "7LIwcIDBIe0T",
        "outputId": "88eca95e-49a1-428d-f9c5-133e10d61275"
      },
      "source": [
        "copy_list[1:6]"
      ],
      "execution_count": 23,
      "outputs": [
        {
          "output_type": "execute_result",
          "data": {
            "text/plain": [
              "[2, 3, 4, 5, 6]"
            ]
          },
          "metadata": {
            "tags": []
          },
          "execution_count": 23
        }
      ]
    },
    {
      "cell_type": "code",
      "metadata": {
        "colab": {
          "base_uri": "https://localhost:8080/"
        },
        "id": "SFBacS4eJFHS",
        "outputId": "e0a21f81-95c4-4123-92eb-71a7180c377c"
      },
      "source": [
        "copy_list.insert(0, 50)\n",
        "copy_list"
      ],
      "execution_count": 24,
      "outputs": [
        {
          "output_type": "execute_result",
          "data": {
            "text/plain": [
              "[50, 1, 2, 3, 4, 5, 6, 7, 8, 9, 63, 3, 4, 5, 7]"
            ]
          },
          "metadata": {
            "tags": []
          },
          "execution_count": 24
        }
      ]
    },
    {
      "cell_type": "code",
      "metadata": {
        "colab": {
          "base_uri": "https://localhost:8080/"
        },
        "id": "sHZJsV5iJ2pV",
        "outputId": "ba4aafad-994e-454b-e978-ce1a23276a35"
      },
      "source": [
        "lista[0]\n",
        "#for i in copy_list:\n",
        " # print(i)"
      ],
      "execution_count": 28,
      "outputs": [
        {
          "output_type": "execute_result",
          "data": {
            "text/plain": [
              "1"
            ]
          },
          "metadata": {
            "tags": []
          },
          "execution_count": 28
        }
      ]
    },
    {
      "cell_type": "code",
      "metadata": {
        "colab": {
          "base_uri": "https://localhost:8080/"
        },
        "id": "69laX3DEKBCV",
        "outputId": "22192061-8cb0-4ebb-c3e6-c5ee7782d24c"
      },
      "source": [
        "for j in range(0, len(copy_list)-1):\n",
        "  print(copy_list[j])\n",
        "  if copy_list[j] == 63:\n",
        "    break"
      ],
      "execution_count": 31,
      "outputs": [
        {
          "output_type": "stream",
          "text": [
            "50\n",
            "1\n",
            "2\n",
            "3\n",
            "4\n",
            "5\n",
            "6\n",
            "7\n",
            "8\n",
            "9\n",
            "63\n"
          ],
          "name": "stdout"
        }
      ]
    },
    {
      "cell_type": "code",
      "metadata": {
        "id": "l1RH7HaIKUp6"
      },
      "source": [
        " lista_compleja = ['hola', 1,2,3,4,5, [34,5,6], {\"1\":1,\"2\":2}, 8.0,9.0, True, 7 + 6j]"
      ],
      "execution_count": 32,
      "outputs": []
    },
    {
      "cell_type": "code",
      "metadata": {
        "colab": {
          "base_uri": "https://localhost:8080/"
        },
        "id": "aIEvY_XPL4Xs",
        "outputId": "5cbe805e-d175-47f5-8be4-bcce8d48429b"
      },
      "source": [
        "for index in range(0, len(lista_compleja)-1):\n",
        "  if type(lista_compleja[index]) == list:\n",
        "    a = lista_compleja[index]\n",
        "print(a)\n"
      ],
      "execution_count": 34,
      "outputs": [
        {
          "output_type": "stream",
          "text": [
            "[34, 5, 6]\n"
          ],
          "name": "stdout"
        }
      ]
    },
    {
      "cell_type": "markdown",
      "metadata": {
        "id": "tg3ThQ9lMx1h"
      },
      "source": [
        "#**Funciones**"
      ]
    },
    {
      "cell_type": "code",
      "metadata": {
        "id": "FaRqM3EOM3lH"
      },
      "source": [
        "def get_list():\n",
        "  \n"
      ],
      "execution_count": null,
      "outputs": []
    }
  ]
}